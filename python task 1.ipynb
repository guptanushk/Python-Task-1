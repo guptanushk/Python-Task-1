{
 "cells": [
  {
   "cell_type": "markdown",
   "id": "7176d6dc-2cba-43c0-9b5e-e242a606670f",
   "metadata": {},
   "source": [
    "Q1. Create a function which will take a list as an argument and return the product of all the numbers\n",
    "after creating a flat list.\n",
    "Use the below-given list as an argument for your function.\n",
    "list1 = [1,2,3,4, [44,55,66, True], False, (34,56,78,89,34), {1,2,3,3,2,1}, {1:34, \"key2\": [55, 67, 78, 89], 4: (45,\n",
    "22, 61, 34)}, [56, 'data science'], 'Machine Learning']"
   ]
  },
  {
   "cell_type": "code",
   "execution_count": 51,
   "id": "ac7ae47d-a69e-4448-b279-54908b9f5b93",
   "metadata": {},
   "outputs": [],
   "source": [
    "def prod_list(lst):\n",
    "    flat_list = []\n",
    "    # iterate over each element \n",
    "    for i in lst: \n",
    "\n",
    "        # check if element is list or number \n",
    "        if type(i) == list or type(i) == tuple or type(i) == set or type(i) == dict: \n",
    "            # iterate over each nested list \n",
    "            for j in i: \n",
    "                # check if element is number \n",
    "                if type(j) == int or type(j) == float: \n",
    "                    flat_list.append(j) \n",
    "                elif type(j) == dict:\n",
    "                    for k,v in j.items():\n",
    "                        if type(v) == int or type(v) == float:\n",
    "                            flat_list.append(v)\n",
    "\n",
    "                elif type(j) == list or type(j) == tuple:\n",
    "                    for k in j:\n",
    "                        if type(k) == int or type(k) == float:\n",
    "                            flat_list.append(k)\n",
    "        else: \n",
    "            # check if element is number \n",
    "            if type(i) == int or type(i) == float: \n",
    "                flat_list.append(i) \n",
    "\n",
    "                \n",
    "    #for product of list\n",
    "    product = 1\n",
    "    for i in range(len(flat_list)):\n",
    "        product *= flat_list[i]\n",
    "    # calculate product of list \n",
    "    return flat_list,product\n",
    "    \n"
   ]
  },
  {
   "cell_type": "code",
   "execution_count": 52,
   "id": "07d17d09-7770-4b3e-a713-7fe2a64cbf39",
   "metadata": {},
   "outputs": [
    {
     "data": {
      "text/plain": [
       "([1, 2, 3, 4, 44, 55, 66, 34, 56, 78, 89, 34, 1, 2, 3, 1, 4, 56],\n",
       " 2315262738624675840)"
      ]
     },
     "execution_count": 52,
     "metadata": {},
     "output_type": "execute_result"
    }
   ],
   "source": [
    "prod_list([1,2,3,4, [44,55,66, True], False, (34,56,78,89,34), {1,2,3,3,2,1}, {1:34, \"key2\": [55, 67, 78, 89], 4: (45,\n",
    "22, 61, 34)}, [56, 'data science'], 'Machine Learning'])"
   ]
  },
  {
   "cell_type": "markdown",
   "id": "f180e901-c5cd-480c-b1ac-ef4eb4edc92c",
   "metadata": {},
   "source": [
    "Q2. Write a python program for encrypting a message sent to you by your friend. The logic of encryption\n",
    "should be such that, for a the output should be z. For b, the output should be y. For c, the output should\n",
    "be x respectively. Also, the whitespace should be replaced with a dollar sign. Keep the punctuation\n",
    "marks unchanged.\n",
    "Input Sentence: I want to become a Data Scientist.\n",
    "Encrypt the above input sentence using the program you just created."
   ]
  },
  {
   "cell_type": "code",
   "execution_count": 38,
   "id": "f258a7c2-8646-4478-9345-9f693de75f9f",
   "metadata": {},
   "outputs": [],
   "source": [
    "def change_input(message):\n",
    "    t = message.lower()\n",
    "    for i in range (len(t)):\n",
    "        if t[i] == ' ':\n",
    "            t1 =  t.replace(\" \",\"$\",1)\n",
    "            t = t1\n",
    "        elif t[i] == '.':\n",
    "            continue\n",
    "        else:\n",
    "            m = t[i] \n",
    "            if (ord(m) <110) : \n",
    "                diff = 110-ord(m)\n",
    "                t1 =  t.replace(m,chr(109+diff),1)\n",
    "                t = t1\n",
    "            else:\n",
    "                diff = ord(m)-109\n",
    "                t1 =  t.replace(m,chr(110-diff),1)\n",
    "                t = t1\n",
    "        \n",
    "    print(t)\n",
    "            "
   ]
  },
  {
   "cell_type": "code",
   "execution_count": 39,
   "id": "476f65cf-e6e7-48fd-aa27-3a7ed23db2ee",
   "metadata": {},
   "outputs": [
    {
     "name": "stdout",
     "output_type": "stream",
     "text": [
      "r$wzmg$gl$yvxlmv$z$dzgz$hxrvngrhg.\n"
     ]
    }
   ],
   "source": [
    "change_input(\"I want to become a Data Scientist.\")"
   ]
  },
  {
   "cell_type": "code",
   "execution_count": null,
   "id": "2982941a-7b09-486e-aaf2-9e021f22080f",
   "metadata": {},
   "outputs": [],
   "source": []
  }
 ],
 "metadata": {
  "kernelspec": {
   "display_name": "Python 3 (ipykernel)",
   "language": "python",
   "name": "python3"
  },
  "language_info": {
   "codemirror_mode": {
    "name": "ipython",
    "version": 3
   },
   "file_extension": ".py",
   "mimetype": "text/x-python",
   "name": "python",
   "nbconvert_exporter": "python",
   "pygments_lexer": "ipython3",
   "version": "3.10.8"
  }
 },
 "nbformat": 4,
 "nbformat_minor": 5
}
